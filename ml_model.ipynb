{
 "cells": [
  {
   "cell_type": "code",
   "execution_count": 33,
   "id": "815c2696",
   "metadata": {},
   "outputs": [],
   "source": [
    "import pandas as pd\n",
    "from sklearn.preprocessing import LabelEncoder\n",
    "from sklearn.model_selection import train_test_split\n",
    "from sklearn.tree import DecisionTreeClassifier\n",
    "from sklearn.metrics import accuracy_score, classification_report\n",
    "import joblib"
   ]
  },
  {
   "cell_type": "code",
   "execution_count": 34,
   "id": "16883199",
   "metadata": {},
   "outputs": [],
   "source": [
    "data = pd.read_csv(\"dataset.csv\")\n"
   ]
  },
  {
   "cell_type": "code",
   "execution_count": 35,
   "id": "ad4fc30f",
   "metadata": {},
   "outputs": [],
   "source": [
    "data = pd.get_dummies(data, columns=[\"Body Size\", \"Body Weight\", \"Eyes\", \"Nose\", \"Lips\", \"Teeth\", \"Skin\", \"Hair\", \"Appetite\", \"Digestion\", \"Thirst\", \"Emotions\", \"Mind\", \"Intellect\", \"Speech\", \"Voice\", \"Dreams\", \"Season Preferred\"])"
   ]
  },
  {
   "cell_type": "code",
   "execution_count": null,
   "id": "f9f4293e",
   "metadata": {},
   "outputs": [],
   "source": []
  },
  {
   "cell_type": "code",
   "execution_count": 36,
   "id": "307ec3e6",
   "metadata": {},
   "outputs": [
    {
     "name": "stdout",
     "output_type": "stream",
     "text": [
      "     Dosha  Body Size_Large  Body Size_Medium  Body Size_Slim  \\\n",
      "0     Vata            False             False            True   \n",
      "1    Pitta            False              True           False   \n",
      "2    Kapha             True             False           False   \n",
      "3     Vata            False             False            True   \n",
      "4    Kapha            False              True           False   \n",
      "..     ...              ...               ...             ...   \n",
      "124   Vata            False             False            True   \n",
      "125   Vata            False             False            True   \n",
      "126   Vata            False             False            True   \n",
      "127   Vata            False             False            True   \n",
      "128   Vata            False             False            True   \n",
      "\n",
      "     Body Weight_Low  Body Weight_Medium  Body Weight_Overweight  Eyes_Big  \\\n",
      "0               True               False                   False     False   \n",
      "1              False                True                   False     False   \n",
      "2              False               False                    True      True   \n",
      "3              False                True                   False     False   \n",
      "4              False               False                    True      True   \n",
      "..               ...                 ...                     ...       ...   \n",
      "124             True               False                   False     False   \n",
      "125             True               False                   False     False   \n",
      "126             True               False                   False     False   \n",
      "127             True               False                   False     False   \n",
      "128             True               False                   False     False   \n",
      "\n",
      "     Eyes_Sharp  Eyes_Sharp, Bright, Sensitive to Light  ...  \\\n",
      "0         False                                   False  ...   \n",
      "1          True                                   False  ...   \n",
      "2         False                                   False  ...   \n",
      "3         False                                   False  ...   \n",
      "4         False                                   False  ...   \n",
      "..          ...                                     ...  ...   \n",
      "124       False                                   False  ...   \n",
      "125       False                                    True  ...   \n",
      "126       False                                   False  ...   \n",
      "127       False                                    True  ...   \n",
      "128       False                                   False  ...   \n",
      "\n",
      "     Voice_Strong Tone  Voice_Strong tone  Voice_Weak and hoarse  \\\n",
      "0                False              False                   True   \n",
      "1                False               True                  False   \n",
      "2                False              False                  False   \n",
      "3                False              False                   True   \n",
      "4                False              False                  False   \n",
      "..                 ...                ...                    ...   \n",
      "124              False              False                  False   \n",
      "125               True              False                  False   \n",
      "126              False              False                  False   \n",
      "127               True              False                  False   \n",
      "128              False              False                  False   \n",
      "\n",
      "     Voice_Weak, Hoarse  Dreams_Imaginative  Dreams_Lack of dreams  \\\n",
      "0                 False                True                  False   \n",
      "1                 False               False                  False   \n",
      "2                 False               False                   True   \n",
      "3                 False                True                  False   \n",
      "4                 False               False                   True   \n",
      "..                  ...                 ...                    ...   \n",
      "124               False               False                  False   \n",
      "125               False               False                   True   \n",
      "126                True               False                  False   \n",
      "127               False               False                   True   \n",
      "128               False                True                  False   \n",
      "\n",
      "     Dreams_Realistic  Season Preferred_Rainy  Season Preferred_Summer  \\\n",
      "0               False                   False                     True   \n",
      "1                True                   False                    False   \n",
      "2               False                   False                     True   \n",
      "3               False                    True                    False   \n",
      "4               False                   False                     True   \n",
      "..                ...                     ...                      ...   \n",
      "124              True                   False                    False   \n",
      "125             False                    True                    False   \n",
      "126              True                   False                    False   \n",
      "127             False                   False                     True   \n",
      "128             False                    True                    False   \n",
      "\n",
      "     Season Preferred_Winter  \n",
      "0                      False  \n",
      "1                       True  \n",
      "2                      False  \n",
      "3                      False  \n",
      "4                      False  \n",
      "..                       ...  \n",
      "124                     True  \n",
      "125                    False  \n",
      "126                     True  \n",
      "127                    False  \n",
      "128                    False  \n",
      "\n",
      "[129 rows x 90 columns]\n"
     ]
    }
   ],
   "source": [
    "print(data)"
   ]
  },
  {
   "cell_type": "code",
   "execution_count": 37,
   "id": "d26d5697",
   "metadata": {},
   "outputs": [],
   "source": [
    "# Split the data into features and target\n",
    "X = data.drop(\"Dosha\", axis=1)\n",
    "y = data[\"Dosha\"]\n"
   ]
  },
  {
   "cell_type": "code",
   "execution_count": 38,
   "id": "fab2d096",
   "metadata": {},
   "outputs": [],
   "source": [
    "# Split the dataset into training and testing sets\n",
    "X_train, X_test, y_train, y_test = train_test_split(X, y, test_size=0.2, random_state=42)\n"
   ]
  },
  {
   "cell_type": "code",
   "execution_count": 39,
   "id": "be3809b6",
   "metadata": {},
   "outputs": [],
   "source": [
    "# Create a decision tree classifier\n",
    "clf = DecisionTreeClassifier(random_state=42)\n"
   ]
  },
  {
   "cell_type": "code",
   "execution_count": 40,
   "id": "aa21e0d5",
   "metadata": {},
   "outputs": [
    {
     "data": {
      "text/html": [
       "<style>#sk-container-id-3 {color: black;}#sk-container-id-3 pre{padding: 0;}#sk-container-id-3 div.sk-toggleable {background-color: white;}#sk-container-id-3 label.sk-toggleable__label {cursor: pointer;display: block;width: 100%;margin-bottom: 0;padding: 0.3em;box-sizing: border-box;text-align: center;}#sk-container-id-3 label.sk-toggleable__label-arrow:before {content: \"▸\";float: left;margin-right: 0.25em;color: #696969;}#sk-container-id-3 label.sk-toggleable__label-arrow:hover:before {color: black;}#sk-container-id-3 div.sk-estimator:hover label.sk-toggleable__label-arrow:before {color: black;}#sk-container-id-3 div.sk-toggleable__content {max-height: 0;max-width: 0;overflow: hidden;text-align: left;background-color: #f0f8ff;}#sk-container-id-3 div.sk-toggleable__content pre {margin: 0.2em;color: black;border-radius: 0.25em;background-color: #f0f8ff;}#sk-container-id-3 input.sk-toggleable__control:checked~div.sk-toggleable__content {max-height: 200px;max-width: 100%;overflow: auto;}#sk-container-id-3 input.sk-toggleable__control:checked~label.sk-toggleable__label-arrow:before {content: \"▾\";}#sk-container-id-3 div.sk-estimator input.sk-toggleable__control:checked~label.sk-toggleable__label {background-color: #d4ebff;}#sk-container-id-3 div.sk-label input.sk-toggleable__control:checked~label.sk-toggleable__label {background-color: #d4ebff;}#sk-container-id-3 input.sk-hidden--visually {border: 0;clip: rect(1px 1px 1px 1px);clip: rect(1px, 1px, 1px, 1px);height: 1px;margin: -1px;overflow: hidden;padding: 0;position: absolute;width: 1px;}#sk-container-id-3 div.sk-estimator {font-family: monospace;background-color: #f0f8ff;border: 1px dotted black;border-radius: 0.25em;box-sizing: border-box;margin-bottom: 0.5em;}#sk-container-id-3 div.sk-estimator:hover {background-color: #d4ebff;}#sk-container-id-3 div.sk-parallel-item::after {content: \"\";width: 100%;border-bottom: 1px solid gray;flex-grow: 1;}#sk-container-id-3 div.sk-label:hover label.sk-toggleable__label {background-color: #d4ebff;}#sk-container-id-3 div.sk-serial::before {content: \"\";position: absolute;border-left: 1px solid gray;box-sizing: border-box;top: 0;bottom: 0;left: 50%;z-index: 0;}#sk-container-id-3 div.sk-serial {display: flex;flex-direction: column;align-items: center;background-color: white;padding-right: 0.2em;padding-left: 0.2em;position: relative;}#sk-container-id-3 div.sk-item {position: relative;z-index: 1;}#sk-container-id-3 div.sk-parallel {display: flex;align-items: stretch;justify-content: center;background-color: white;position: relative;}#sk-container-id-3 div.sk-item::before, #sk-container-id-3 div.sk-parallel-item::before {content: \"\";position: absolute;border-left: 1px solid gray;box-sizing: border-box;top: 0;bottom: 0;left: 50%;z-index: -1;}#sk-container-id-3 div.sk-parallel-item {display: flex;flex-direction: column;z-index: 1;position: relative;background-color: white;}#sk-container-id-3 div.sk-parallel-item:first-child::after {align-self: flex-end;width: 50%;}#sk-container-id-3 div.sk-parallel-item:last-child::after {align-self: flex-start;width: 50%;}#sk-container-id-3 div.sk-parallel-item:only-child::after {width: 0;}#sk-container-id-3 div.sk-dashed-wrapped {border: 1px dashed gray;margin: 0 0.4em 0.5em 0.4em;box-sizing: border-box;padding-bottom: 0.4em;background-color: white;}#sk-container-id-3 div.sk-label label {font-family: monospace;font-weight: bold;display: inline-block;line-height: 1.2em;}#sk-container-id-3 div.sk-label-container {text-align: center;}#sk-container-id-3 div.sk-container {/* jupyter's `normalize.less` sets `[hidden] { display: none; }` but bootstrap.min.css set `[hidden] { display: none !important; }` so we also need the `!important` here to be able to override the default hidden behavior on the sphinx rendered scikit-learn.org. See: https://github.com/scikit-learn/scikit-learn/issues/21755 */display: inline-block !important;position: relative;}#sk-container-id-3 div.sk-text-repr-fallback {display: none;}</style><div id=\"sk-container-id-3\" class=\"sk-top-container\"><div class=\"sk-text-repr-fallback\"><pre>DecisionTreeClassifier(random_state=42)</pre><b>In a Jupyter environment, please rerun this cell to show the HTML representation or trust the notebook. <br />On GitHub, the HTML representation is unable to render, please try loading this page with nbviewer.org.</b></div><div class=\"sk-container\" hidden><div class=\"sk-item\"><div class=\"sk-estimator sk-toggleable\"><input class=\"sk-toggleable__control sk-hidden--visually\" id=\"sk-estimator-id-3\" type=\"checkbox\" checked><label for=\"sk-estimator-id-3\" class=\"sk-toggleable__label sk-toggleable__label-arrow\">DecisionTreeClassifier</label><div class=\"sk-toggleable__content\"><pre>DecisionTreeClassifier(random_state=42)</pre></div></div></div></div></div>"
      ],
      "text/plain": [
       "DecisionTreeClassifier(random_state=42)"
      ]
     },
     "execution_count": 40,
     "metadata": {},
     "output_type": "execute_result"
    }
   ],
   "source": [
    "# Fit the classifier to the training data\n",
    "clf.fit(X_train, y_train)\n"
   ]
  },
  {
   "cell_type": "code",
   "execution_count": 41,
   "id": "820d79ef",
   "metadata": {},
   "outputs": [],
   "source": [
    "# Make predictions on the test data\n",
    "y_pred = clf.predict(X_test)"
   ]
  },
  {
   "cell_type": "code",
   "execution_count": 42,
   "id": "9570562d",
   "metadata": {},
   "outputs": [
    {
     "name": "stdout",
     "output_type": "stream",
     "text": [
      "Accuracy: 0.92\n"
     ]
    }
   ],
   "source": [
    "# Evaluate the model\n",
    "accuracy = accuracy_score(y_test, y_pred)\n",
    "print(f\"Accuracy: {accuracy:.2f}\")"
   ]
  },
  {
   "cell_type": "code",
   "execution_count": 43,
   "id": "bd783b6b",
   "metadata": {},
   "outputs": [
    {
     "name": "stdout",
     "output_type": "stream",
     "text": [
      "              precision    recall  f1-score   support\n",
      "\n",
      "       Kapha       0.82      1.00      0.90         9\n",
      "       Pitta       1.00      0.83      0.91        12\n",
      "        Vata       1.00      1.00      1.00         5\n",
      "\n",
      "    accuracy                           0.92        26\n",
      "   macro avg       0.94      0.94      0.94        26\n",
      "weighted avg       0.94      0.92      0.92        26\n",
      "\n"
     ]
    }
   ],
   "source": [
    "# Print classification report\n",
    "print(classification_report(y_test, y_pred))"
   ]
  },
  {
   "cell_type": "code",
   "execution_count": 44,
   "id": "1d0d92b3",
   "metadata": {},
   "outputs": [
    {
     "data": {
      "text/plain": [
       "['model.pkl']"
      ]
     },
     "execution_count": 44,
     "metadata": {},
     "output_type": "execute_result"
    }
   ],
   "source": [
    "# Save the Decision Tree model to a file\n",
    "model_filename = 'model.pkl'\n",
    "joblib.dump(clf, model_filename)"
   ]
  },
  {
   "cell_type": "code",
   "execution_count": null,
   "id": "06809e1a",
   "metadata": {},
   "outputs": [],
   "source": [
    "\n"
   ]
  },
  {
   "cell_type": "code",
   "execution_count": null,
   "id": "ea1aedc2",
   "metadata": {},
   "outputs": [],
   "source": []
  },
  {
   "cell_type": "code",
   "execution_count": null,
   "id": "5c546b17",
   "metadata": {},
   "outputs": [],
   "source": []
  }
 ],
 "metadata": {
  "kernelspec": {
   "display_name": "Python 3 (ipykernel)",
   "language": "python",
   "name": "python3"
  },
  "language_info": {
   "codemirror_mode": {
    "name": "ipython",
    "version": 3
   },
   "file_extension": ".py",
   "mimetype": "text/x-python",
   "name": "python",
   "nbconvert_exporter": "python",
   "pygments_lexer": "ipython3",
   "version": "3.11.5"
  }
 },
 "nbformat": 4,
 "nbformat_minor": 5
}
